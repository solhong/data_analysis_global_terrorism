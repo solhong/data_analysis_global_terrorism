{
  "cells": [
    {
      "cell_type": "markdown",
      "metadata": {
        "id": "view-in-github",
        "colab_type": "text"
      },
      "source": [
        "<a href=\"https://colab.research.google.com/github/solhong/data_analysis_social_issues/blob/main/%EB%8F%8C%EB%B4%84_%EB%85%B8%EB%8F%99%EC%9D%98_%EA%B0%80%EC%B9%98_%ED%99%8D%EB%8B%A4%EC%86%94_(1).ipynb\" target=\"_parent\"><img src=\"https://colab.research.google.com/assets/colab-badge.svg\" alt=\"Open In Colab\"/></a>"
      ]
    },
    {
      "cell_type": "markdown",
      "id": "07e55528",
      "metadata": {
        "id": "07e55528"
      },
      "source": [
        "# 돌봄 노동의 가치가 사회적으로 인정될 수 있는 정책방안\n",
        "- 데이터 분석 목적: 돌봄 노동의 가치가 사회적으로 인정될 수 있는 정책방안 또는 돌봄 노동의 사회적 가치가 인정될 때 달라질 미래상\n",
        "\n",
        "실제로 돌봄 노동의 사회적 가치가 인정될 수 있는 정책 방안을 세우기 위해서 예상 돌봄 노동자를 설정하고 해당 노동자의 가상 시나리오를 설계하는 것이 필요합니다. 서울 성동구에서 2022년 상반기부터 돌봄 노동에 대한 경력 인증서를 발급할 경우, 해당 혜택을 받는 가상인물을 설정하기 위해 경력단절이 시작되는 연령대를 다음 공공데이터를 활용하여 파악하고자 합니다."
      ]
    },
    {
      "cell_type": "code",
      "execution_count": null,
      "id": "7e6546e6",
      "metadata": {
        "id": "7e6546e6"
      },
      "outputs": [],
      "source": [
        "import numpy as np\n",
        "import pandas as pd\n",
        "import seaborn as sns\n",
        "import matplotlib.pyplot as plt\n",
        "import warnings\n",
        "warnings.simplefilter(action=\"ignore\")\n",
        "\n",
        "from matplotlib import rc\n",
        "\n",
        "plt.rcParams[\"axes.unicode_minus\"] = False\n",
        "rc(\"font\", family=\"Arial Unicode MS\")\n",
        "%matplotlib inline\n",
        "get_ipython().run_line_magic(\"matplotlib\", \"inline\")"
      ]
    },
    {
      "cell_type": "markdown",
      "id": "97b55b60",
      "metadata": {
        "id": "97b55b60"
      },
      "source": [
        "### 2020년도 서울시 연령별 경제 활동 참여자 수"
      ]
    },
    {
      "cell_type": "code",
      "execution_count": null,
      "id": "1579a07c",
      "metadata": {
        "id": "1579a07c",
        "outputId": "b5f6b104-4ddc-4d76-cb3a-49f58036871b"
      },
      "outputs": [
        {
          "data": {
            "text/html": [
              "<div>\n",
              "<style scoped>\n",
              "    .dataframe tbody tr th:only-of-type {\n",
              "        vertical-align: middle;\n",
              "    }\n",
              "\n",
              "    .dataframe tbody tr th {\n",
              "        vertical-align: top;\n",
              "    }\n",
              "\n",
              "    .dataframe thead th {\n",
              "        text-align: right;\n",
              "    }\n",
              "</style>\n",
              "<table border=\"1\" class=\"dataframe\">\n",
              "  <thead>\n",
              "    <tr style=\"text-align: right;\">\n",
              "      <th></th>\n",
              "      <th>연령대</th>\n",
              "      <th>2020년도 남성 취업자</th>\n",
              "      <th>2020년도 여성 취업자</th>\n",
              "    </tr>\n",
              "  </thead>\n",
              "  <tbody>\n",
              "    <tr>\n",
              "      <th>0</th>\n",
              "      <td>15~19세</td>\n",
              "      <td>13</td>\n",
              "      <td>14</td>\n",
              "    </tr>\n",
              "    <tr>\n",
              "      <th>1</th>\n",
              "      <td>20~24세</td>\n",
              "      <td>75</td>\n",
              "      <td>161</td>\n",
              "    </tr>\n",
              "    <tr>\n",
              "      <th>2</th>\n",
              "      <td>25~29세</td>\n",
              "      <td>257</td>\n",
              "      <td>328</td>\n",
              "    </tr>\n",
              "    <tr>\n",
              "      <th>3</th>\n",
              "      <td>30~34세</td>\n",
              "      <td>321</td>\n",
              "      <td>264</td>\n",
              "    </tr>\n",
              "    <tr>\n",
              "      <th>4</th>\n",
              "      <td>35~39세</td>\n",
              "      <td>336</td>\n",
              "      <td>226</td>\n",
              "    </tr>\n",
              "  </tbody>\n",
              "</table>\n",
              "</div>"
            ],
            "text/plain": [
              "       연령대  2020년도 남성 취업자  2020년도 여성 취업자\n",
              "0   15~19세             13             14\n",
              "1   20~24세             75            161\n",
              "2   25~29세            257            328\n",
              "3   30~34세            321            264\n",
              "4  35~39세             336            226"
            ]
          },
          "execution_count": 2,
          "metadata": {},
          "output_type": "execute_result"
        }
      ],
      "source": [
        "work_population_all = pd.read_excel(\"../data/2020_연령대별 취업자_모두.xls\")\n",
        "work_population_all.head()"
      ]
    },
    {
      "cell_type": "code",
      "execution_count": null,
      "id": "54fcfb02",
      "metadata": {
        "id": "54fcfb02",
        "outputId": "f0ace9df-006c-4d35-9dcb-eeff174b43ea"
      },
      "outputs": [
        {
          "data": {
            "text/html": [
              "<div>\n",
              "<style scoped>\n",
              "    .dataframe tbody tr th:only-of-type {\n",
              "        vertical-align: middle;\n",
              "    }\n",
              "\n",
              "    .dataframe tbody tr th {\n",
              "        vertical-align: top;\n",
              "    }\n",
              "\n",
              "    .dataframe thead th {\n",
              "        text-align: right;\n",
              "    }\n",
              "</style>\n",
              "<table border=\"1\" class=\"dataframe\">\n",
              "  <thead>\n",
              "    <tr style=\"text-align: right;\">\n",
              "      <th></th>\n",
              "      <th>2020년도 남성 취업자</th>\n",
              "      <th>2020년도 여성 취업자</th>\n",
              "    </tr>\n",
              "    <tr>\n",
              "      <th>연령대</th>\n",
              "      <th></th>\n",
              "      <th></th>\n",
              "    </tr>\n",
              "  </thead>\n",
              "  <tbody>\n",
              "    <tr>\n",
              "      <th>15~19세</th>\n",
              "      <td>13</td>\n",
              "      <td>14</td>\n",
              "    </tr>\n",
              "    <tr>\n",
              "      <th>20~24세</th>\n",
              "      <td>75</td>\n",
              "      <td>161</td>\n",
              "    </tr>\n",
              "    <tr>\n",
              "      <th>25~29세</th>\n",
              "      <td>257</td>\n",
              "      <td>328</td>\n",
              "    </tr>\n",
              "    <tr>\n",
              "      <th>30~34세</th>\n",
              "      <td>321</td>\n",
              "      <td>264</td>\n",
              "    </tr>\n",
              "    <tr>\n",
              "      <th>35~39세</th>\n",
              "      <td>336</td>\n",
              "      <td>226</td>\n",
              "    </tr>\n",
              "  </tbody>\n",
              "</table>\n",
              "</div>"
            ],
            "text/plain": [
              "         2020년도 남성 취업자  2020년도 여성 취업자\n",
              "연령대                                  \n",
              "15~19세              13             14\n",
              "20~24세              75            161\n",
              "25~29세             257            328\n",
              "30~34세             321            264\n",
              "35~39세             336            226"
            ]
          },
          "execution_count": 3,
          "metadata": {},
          "output_type": "execute_result"
        }
      ],
      "source": [
        "work_population_all.set_index(\"연령대\", inplace=True)\n",
        "work_population_all.head()"
      ]
    },
    {
      "cell_type": "code",
      "execution_count": null,
      "id": "40f6b7fc",
      "metadata": {
        "id": "40f6b7fc",
        "outputId": "680d421b-92cb-43e4-de43-d3eb8d8ceff6"
      },
      "outputs": [
        {
          "data": {
            "image/png": "[encoded data removed]",
            "text/plain": [
              "<Figure size 1296x432 with 1 Axes>"
            ]
          },
          "metadata": {
            "needs_background": "light"
          },
          "output_type": "display_data"
        }
      ],
      "source": [
        "work_population_all.plot.bar(width=0.9)\n",
        "fig = plt.gcf()\n",
        "fig.set_size_inches(18,6)\n",
        "plt.show()"
      ]
    },
    {
      "cell_type": "markdown",
      "id": "9dc6e563",
      "metadata": {
        "id": "9dc6e563"
      },
      "source": [
        "위 데이터는 공공데이터 포럼에서 제공한 2020년도 서울특별시 연령별 여성과 남성 취업자 수 통계입니다. 2020년도 서울시 여성 취업자(주황색 막대그래프)의 경우, 25-29세 사이에 여성 취업자 수가 가장 많으며, 30세부터 49세까지 여성 취업자 수가 감소하는 것을 확인할 수 있습니다. 여성의 경우 30세 이후부터 경력단절이 시작됨을 확인할 수 있습니다.  반면에 남성 취업자(파란색 막대그래프)의 경우 25-29세 사이에는 여성보다 취업자 수가 적으나 30세 이후로 증가하는 것을 확인할 수 있습니다."
      ]
    },
    {
      "cell_type": "code",
      "execution_count": null,
      "id": "2bcc6989",
      "metadata": {
        "scrolled": true,
        "id": "2bcc6989",
        "outputId": "510f9a21-9668-4bc0-83f7-a54db34e9bf1"
      },
      "outputs": [
        {
          "data": {
            "text/html": [
              "<div>\n",
              "<style scoped>\n",
              "    .dataframe tbody tr th:only-of-type {\n",
              "        vertical-align: middle;\n",
              "    }\n",
              "\n",
              "    .dataframe tbody tr th {\n",
              "        vertical-align: top;\n",
              "    }\n",
              "\n",
              "    .dataframe thead th {\n",
              "        text-align: right;\n",
              "    }\n",
              "</style>\n",
              "<table border=\"1\" class=\"dataframe\">\n",
              "  <thead>\n",
              "    <tr style=\"text-align: right;\">\n",
              "      <th></th>\n",
              "      <th>15~54세 기혼여성(A)</th>\n",
              "      <th>경력단절여성수</th>\n",
              "    </tr>\n",
              "    <tr>\n",
              "      <th>기간</th>\n",
              "      <th></th>\n",
              "      <th></th>\n",
              "    </tr>\n",
              "  </thead>\n",
              "  <tbody>\n",
              "    <tr>\n",
              "      <th>2020</th>\n",
              "      <td>1497</td>\n",
              "      <td>231</td>\n",
              "    </tr>\n",
              "  </tbody>\n",
              "</table>\n",
              "</div>"
            ],
            "text/plain": [
              "      15~54세 기혼여성(A)  경력단절여성수\n",
              "기간                           \n",
              "2020            1497      231"
            ]
          },
          "execution_count": 5,
          "metadata": {},
          "output_type": "execute_result"
        }
      ],
      "source": [
        "career_break = pd.read_excel(\"../data/서울시_경력단절.xls\")\n",
        "career_break.set_index(\"기간\", inplace=True)\n",
        "career_break.head()"
      ]
    },
    {
      "cell_type": "code",
      "execution_count": null,
      "id": "0cbcf9a2",
      "metadata": {
        "id": "0cbcf9a2",
        "outputId": "7c12a544-b66f-4ac4-9e7c-a557552ea54b"
      },
      "outputs": [
        {
          "data": {
            "image/png": "[encoded data removed]",
            "text/plain": [
              "<Figure size 1296x432 with 1 Axes>"
            ]
          },
          "metadata": {
            "needs_background": "light"
          },
          "output_type": "display_data"
        }
      ],
      "source": [
        "career_break.plot.bar(width=0.3)\n",
        "fig = plt.gcf()\n",
        "fig.set_size_inches(18,6)\n",
        "plt.show()"
      ]
    },
    {
      "cell_type": "markdown",
      "id": "798fce81",
      "metadata": {
        "id": "798fce81"
      },
      "source": [
        "**돌봄 노동 가상 시나리오**\n",
        "**돌봄 노동자 페르소나**\n",
        "- 이름: 김지현\n",
        "- 성별: 여성\n",
        "- 나이: 35세\n",
        "- 학력: 대졸 이상\n",
        "- 연봉: 50,247,000원 (하루 약 20만원) * 아래 데이터 출처 첨부\n",
        "- 8년동안 근무한 직장을 휴직 후 유치원을 보내기 전 나이인 4세까지 약 4년동안 아동 돌봄 노동 중\n",
        "\n",
        "**아동 돌봄 노동 내용 및 소요되는 시간**\n",
        "- 식사 준비: 30분 * 3\n",
        "- 식사 후 정리: 30분 * 3\n",
        "- 아이 목욕: 30분\n",
        "- 아이 정서 및 감감 발달 교육:  4시간 (책 읽어주기, 장난감 놀이, 운동, 감감 놀이 등)\n",
        "- 아이 용품 소독 및 관리: 30분\n",
        "- 집안 청소: 1시간\n",
        "하루 평균 돌봄 노동 소요 시간: 9시간\n",
        "\n",
        "**김지현 님의 돌봄 노동시간을 경제적 가치로 환산한다면?**\n",
        "김지현 님께서 돌봄 노동으로 경력을 인증받기 위해서 위와 같이 돌봄 노동 내용과 시간을 매일 기록합니다. 돌봄 노동에 소요한 시간을 김지현 님의 연봉을 기준으로 계산한다면 하루 돌봄 노동을 9시간 할 경우 약 25만 7천 원, 월 약 537만 4천 원의 노동 가치를 인정받을 것으로 추산됩니다. 이를 서울시 15-54세 기혼 여성 중 경력단절 여성 수로 환산한다면 월 약 12억 4047만 원, 연간 148억 8564만원에 이릅니다. 이를 국내총생산에 견줘본다면 돌봄 노동의 경제적 가치를 GDP 대비 몇 % 인지 확인할 수 있습니다. 이렇게 돌봄 노동시간을 경제적 가치로 환산하여 추후에 경력 인증서에 포함할 수 있도록 돌봄 노동 시간을 기록합니다.\n",
        "\n",
        "**김지현 님은 이러한 돌봄 노동은 어떻기 기록할까요?**\n",
        "돌봄 노동 기록 앱 또는 웹사이트를 사용하여 손쉽게 기록할 수 있습니다. 반복적인 돌봄 노동이 많기 때문에 돌봄 노동 내용을 한 번만 설정해두고 돌봄 노동 시간만 매일 업데이트하면 됩니다. 물론 필요시 돌봄 내용도 수정할 수 있습니다. 돌봄 노동 기록을 시작하는 순간부터 정부로부터 돌봄 노동자를 케어하는 매니저와 연결됩니다. 케어 매니저로부터 월 1회 정도 상담을 받으며, 기록되고 있는 돌봄 노동이 실제로 잘 이뤄지고 있는지에 대한 확인부터 돌봄 노동 과정에서 어려움은 없는지, 육체적 및 정신적 서포트도 받습니다.\n",
        "\n",
        "**돌봄 노동으로 경력단절이 생긴 김지현 님은 앞으로 어떻게 커리어를 이어나갈 수 있을까요?**\n",
        "김지현 님은 아이를 유치원에 보낼 수 있는 나이인 5세가 되면 원래 다니던 직장에서 경력을 이어나갈 계획을 하고 있고 해당 부분에 대해서 이전 직장의 대표와 돌봄 노동 케어 매니저와 얘기를 나눈 상태입니다. 그렇기 때문에, 본인의 업무 분야에 대한 감을 잃지 않기 위해서 아이가 자는 시간 동안 공부하는 시간도 꾸준히 가지며, 업무와 유관한 학습에 대한 지원금도 신청하여 혜택을 받고 있습니다. 최소 월 1회, 본인의 속했던 회사 팀으로부터 회사의 현황에 대해서도 전해 들으며 팀에 대한 소속감을 이어나가는 시간도 가지고 있습니다. 이러한 소속감과 정부로부터의 서포트는 본인의 커리어에서 인정을 받았던 김지현 님의 돌봄 노동의 가치도 함께 인정해주는 지지의 표현이 아닐까 싶습니다.\n",
        "\n",
        "**위 가상 시나리오 설계를 통해 발견한 돌봄 노동에 필요한 정책은 무엇인가요?**\n",
        "시나리오를 설계하면서 다양한 돌봄 노동자의 실제 삶에 대한 이해와 공감이 바탕이 된 정책 설계가 필요함을 한번 더 느꼈습니다. 위 시나리오는 모든 돌봄 노동자의 상황을 대변하진 못하겠지만, 공공데이터를 기반으로 경력단절이 가장 많은 35세 여성의 돌봄 노동의 모습을 그려봤습니다.  이러한 시나리오를 설계를 통해 돌봄 노동의 사회적 가치가 인정되기 위해서는 다음과 같은 정책이 필요함을 발견하게 되었습니다.\n",
        "1. 돌봄 노동 내용 & 시간 기록 및 관리 시스템 필요\n",
        "2. 월 1회 돌봄 노동자 케어 매니저와의 상담 시스템 필요\n",
        "    - 기록한 돌봄 노동이 실제로 잘 이뤄지고 있는지 확인\n",
        "    - 돌봄 노동과정에서 어려움은 없는지 확인하여 필요시 서포트 제공\n",
        "3. 업무에 대한 감을 잃지 않도록 서포트 시스템 필요\n",
        "    - 업무와 관련된 공부 지원금\n",
        "    - 경력단절 후 이전 회사로 돌아갈 경우, 이전 회사와의 지속적인 소통 시스템\n",
        "    - 다른 회사에서 경력을 이어갈 경우, 회사와 지원자 매칭 서포트 시스템"
      ]
    }
  ],
  "metadata": {
    "kernelspec": {
      "display_name": "Python 3 (ipykernel)",
      "language": "python",
      "name": "python3"
    },
    "language_info": {
      "codemirror_mode": {
        "name": "ipython",
        "version": 3
      },
      "file_extension": ".py",
      "mimetype": "text/x-python",
      "name": "python",
      "nbconvert_exporter": "python",
      "pygments_lexer": "ipython3",
      "version": "3.8.12"
    },
    "colab": {
      "provenance": [],
      "include_colab_link": true
    }
  },
  "nbformat": 4,
  "nbformat_minor": 5
}